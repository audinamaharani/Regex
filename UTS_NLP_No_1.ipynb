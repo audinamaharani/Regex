{
  "nbformat": 4,
  "nbformat_minor": 0,
  "metadata": {
    "colab": {
      "name": "UTS NLP No.1",
      "provenance": []
    },
    "kernelspec": {
      "name": "python3",
      "display_name": "Python 3"
    },
    "language_info": {
      "name": "python"
    }
  },
  "cells": [
    {
      "cell_type": "markdown",
      "source": [
        "#Import library"
      ],
      "metadata": {
        "id": "XttnQLVrBn_h"
      }
    },
    {
      "cell_type": "markdown",
      "source": [
        "Untuk mengimplementasikan regular expression, saya akan menggunakan library yang sudah ada di python yaitu re\n",
        "\n"
      ],
      "metadata": {
        "id": "BbBkZjWiB9pV"
      }
    },
    {
      "cell_type": "code",
      "execution_count": null,
      "metadata": {
        "id": "3pugSpsy7MZJ"
      },
      "outputs": [],
      "source": [
        "import re"
      ]
    },
    {
      "cell_type": "markdown",
      "source": [
        "Pada library re terdapat beberapa fungsi, diantaranya adalah:\n",
        "\n",
        "*   re.match() melakukan string matching dengan pattern hanya pada awal dari string dan mengembalikan nilai true atau false\n",
        "*   re.search() melakukan string matching dengan pattern pada seluruh string namun hanya mengembalikan nilai true atau false\n",
        "*   re.findall() melakukan string matching dengan pattern pada seluruh string dan mengembalikan nilai-nilai true yang ditemukan, tetapi jika tidak ada maka akan mengembalikan himpunan kosong\n",
        "\n"
      ],
      "metadata": {
        "id": "fhxeHmRfVIlz"
      }
    },
    {
      "cell_type": "markdown",
      "source": [
        "Berdasarkan soal, Jolly melakukan web scraping untuk mengumpulkan data. Maka, saya menyimpulkan bahwa data yang ingin didapatkan Jolly tentunya merupakan semua data yang memenuhi kriteria. Oleh karena itu saya memilih menggunakan fungsi **re.findall()**"
      ],
      "metadata": {
        "id": "8EDsD9JpUX4D"
      }
    },
    {
      "cell_type": "markdown",
      "source": [
        "#Mencari Phone Number"
      ],
      "metadata": {
        "id": "gtv7esXxBwt5"
      }
    },
    {
      "cell_type": "code",
      "source": [
        "# membuat fungsi pencari phonenumber dengan passing parameter bernama string\n",
        "def regex_phonenumber(string):\n",
        "  pattern = '([\\+][6][025][0-9]+)'\n",
        "  res = re.findall(pattern, string)\n",
        "  print(res)"
      ],
      "metadata": {
        "id": "0VoF1Wuf7YAW"
      },
      "execution_count": null,
      "outputs": []
    },
    {
      "cell_type": "markdown",
      "source": [
        "Penjelasan dari pattern yang digunakan:\n",
        "\n",
        "*   () -> menandakan berada dalam sebuah kelompok\n",
        "*   [\\+] -> mewajibkan tanda + diawal nomor telepon\n",
        "*   [6] -> mewajibkan angka 6 setelah +\n",
        "*   [025] -> mewajibkan angka 0, 2, atau 5 setelah angka 6\n",
        "*   [0-9]+ -> mewajibkan ada angka setelah kode negara, angka yang ditulis bebas dan jumlahnya saya asumsikan sebagai minimal satu karena 2 angka pertama merupakan kode negara sehingga setidaknya ada 1 angka yang mengikuti"
      ],
      "metadata": {
        "id": "WrzPVwiiWb1_"
      }
    },
    {
      "cell_type": "code",
      "source": [
        "# test input dari soal\n",
        "regex_phonenumber('+62215262578, +60358577, +60388888000, +3623672673672, +62883939, +758273823')"
      ],
      "metadata": {
        "colab": {
          "base_uri": "https://localhost:8080/"
        },
        "id": "bl6VNp04k093",
        "outputId": "3817b4a3-914d-4346-f304-fb6161e4744b"
      },
      "execution_count": null,
      "outputs": [
        {
          "output_type": "stream",
          "name": "stdout",
          "text": [
            "['+62215262578', '+60358577', '+60388888000', '+62883939']\n"
          ]
        }
      ]
    },
    {
      "cell_type": "code",
      "source": [
        "# test input baru\n",
        "string = input()\n",
        "search = regex_phonenumber(string)"
      ],
      "metadata": {
        "colab": {
          "base_uri": "https://localhost:8080/"
        },
        "id": "KBscaAjNDZqC",
        "outputId": "39a8583f-9c22-455d-b73b-69535994cc8a"
      },
      "execution_count": null,
      "outputs": [
        {
          "output_type": "stream",
          "name": "stdout",
          "text": [
            "+623483949, +928498928\n",
            "['+623483949']\n"
          ]
        }
      ]
    },
    {
      "cell_type": "markdown",
      "source": [
        "#Mencari Email"
      ],
      "metadata": {
        "id": "UyHUsYLmGe5E"
      }
    },
    {
      "cell_type": "code",
      "source": [
        "# membuat fungsi pencari email dengan passing parameter bernama string\n",
        "def regex_email(string):\n",
        "  pattern = '[a-z\\d\\.]+@bee\\.[a-z\\.]+'\n",
        "  res = re.findall(pattern, string)\n",
        "  print(res)"
      ],
      "metadata": {
        "id": "6VhA0MYlMFT9"
      },
      "execution_count": null,
      "outputs": []
    },
    {
      "cell_type": "markdown",
      "source": [
        "Penjelasan dari pattern yang digunakan:\n",
        "\n",
        "Ada beberapa ketentuan pada email academia dari contoh, maka saya mengasumsikan sebagai berikut:\n",
        "\n",
        "*   [a-z\\d\\.]+ -> username dari email hanya bisa menggunakan huruf nonkapital, angka, dan titik tetapi jumlahnya tidak terbatas dengan minimal 1 karakter\n",
        "*   @bee\\. -> mewajibkan adanya @ dan nama subdomain bee dan diikuti oleh .\n",
        "*   [a-z\\.] -> setelah ada . maka dapat diikuti oleh minimal satu karakter dari huruf nonkapital dan titik (karena pada contoh terdapat bee.ac.id, bee.ac.uk, bee.edu.au, dan bee.edu)"
      ],
      "metadata": {
        "id": "qcKcI28BYPGS"
      }
    },
    {
      "cell_type": "code",
      "source": [
        "# test input dari soal\n",
        "regex_email('jolly.wanda@bee.ac.id, jojo@bee.ac.uk, jolly.wanda@bee.edu, jojo@bee.edu.au')"
      ],
      "metadata": {
        "colab": {
          "base_uri": "https://localhost:8080/"
        },
        "id": "deq3sNEXNz8G",
        "outputId": "899b7b72-666f-45ab-939c-c3422e3867e6"
      },
      "execution_count": null,
      "outputs": [
        {
          "output_type": "stream",
          "name": "stdout",
          "text": [
            "['jolly.wanda@bee.ac.id', 'jojo@bee.ac.uk', 'jolly.wanda@bee.edu', 'jojo@bee.edu.au']\n"
          ]
        }
      ]
    },
    {
      "cell_type": "code",
      "source": [
        "# test input baru\n",
        "string = input()\n",
        "search = regex_email(string)"
      ],
      "metadata": {
        "id": "XP_gOT91MoEL"
      },
      "execution_count": null,
      "outputs": []
    }
  ]
}